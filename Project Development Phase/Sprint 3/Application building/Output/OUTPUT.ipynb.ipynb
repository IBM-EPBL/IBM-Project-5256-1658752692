{
  "nbformat": 4,
  "nbformat_minor": 0,
  "metadata": {
    "colab": {
      "provenance": []
    },
    "kernelspec": {
      "name": "python3",
      "display_name": "Python 3"
    },
    "language_info": {
      "name": "python"
    },
    "accelerator": "TPU",
    "gpuClass": "standard"
  },
  "cells": [
    {
      "cell_type": "markdown",
      "source": [
        "# **Image Preprocessing**"
      ],
      "metadata": {
        "id": "DCRolva3lYu_"
      }
    },
    {
      "cell_type": "markdown",
      "source": [
        "### Import ImageDataGenerator Library And Configure It"
      ],
      "metadata": {
        "id": "3-t6NF8Flj4G"
      }
    },
    {
      "cell_type": "code",
      "execution_count": null,
      "metadata": {
        "id": "iy2QXRwJeOqr"
      },
      "outputs": [],
      "source": [
        "from tensorflow.keras.preprocessing.image import ImageDataGenerator"
      ]
    },
    {
      "cell_type": "code",
      "source": [
        "# Training Datagen\n",
        "train_datagen = ImageDataGenerator(rescale=1/255,zoom_range=0.2,horizontal_flip=True,vertical_flip=False)\n",
        "# Testing Datagen\n",
        "test_datagen = ImageDataGenerator(rescale=1/255)\n"
      ],
      "metadata": {
        "id": "AdFUXM70fmPj"
      },
      "execution_count": null,
      "outputs": []
    },
    {
      "cell_type": "code",
      "source": [
        "import tensorflow as tf\n",
        "import os\n",
        "from keras.models import Sequential\n",
        "from keras.layers import Dense, Conv2D, Flatten, Dropout, MaxPooling2D\n",
        "from keras.preprocessing.image import ImageDataGenerator\n",
        "import numpy as np\n",
        "import matplotlib.pyplot as plt\n",
        "import IPython.display as display\n",
        "from PIL import Image\n",
        "import pathlib"
      ],
      "metadata": {
        "id": "6H2WCNbHkyt0"
      },
      "execution_count": null,
      "outputs": []
    },
    {
      "cell_type": "markdown",
      "source": [
        "##Apply ImageDataGenerator Functionality To Train And Test Set"
      ],
      "metadata": {
        "id": "gIQ1ebsH-Yjh"
      }
    },
    {
      "cell_type": "code",
      "source": [
        "from google.colab import drive\n",
        "drive.mount('/content/drive')"
      ],
      "metadata": {
        "id": "Suz-QszS-gA7",
        "colab": {
          "base_uri": "https://localhost:8080/"
        },
        "outputId": "edc8243f-15fe-4e61-c3e2-7d5e6945ecc6"
      },
      "execution_count": null,
      "outputs": [
        {
          "output_type": "stream",
          "name": "stdout",
          "text": [
            "Drive already mounted at /content/drive; to attempt to forcibly remount, call drive.mount(\"/content/drive\", force_remount=True).\n"
          ]
        }
      ]
    },
    {
      "cell_type": "code",
      "source": [
        "# Training Dataset\n",
        "x_train=train_datagen.flow_from_directory(r'/content/drive/MyDrive/Dataset/Dataset/training_set',target_size=(64,64), class_mode='categorical',batch_size=900,color_mode = \"grayscale\")\n",
        "# Testing Dataset\n",
        "x_test=test_datagen.flow_from_directory(r'/content/drive/MyDrive/Dataset/Dataset/test_set',target_size=(64,64), class_mode='categorical',batch_size=900,color_mode = \"grayscale\")\n"
      ],
      "metadata": {
        "id": "-HZNxC-8-1lg",
        "colab": {
          "base_uri": "https://localhost:8080/"
        },
        "outputId": "71575dc6-2ab5-4419-a970-b11b75b20393"
      },
      "execution_count": null,
      "outputs": [
        {
          "output_type": "stream",
          "name": "stdout",
          "text": [
            "Found 15750 images belonging to 9 classes.\n",
            "Found 2250 images belonging to 9 classes.\n"
          ]
        }
      ]
    },
    {
      "cell_type": "code",
      "source": [
        "x = (15750+2250)//900\n",
        "x"
      ],
      "metadata": {
        "colab": {
          "base_uri": "https://localhost:8080/"
        },
        "id": "T7z_hSJss9z6",
        "outputId": "948c01d5-9e33-4c8d-c4d3-6c11336de023"
      },
      "execution_count": null,
      "outputs": [
        {
          "output_type": "execute_result",
          "data": {
            "text/plain": [
              "20"
            ]
          },
          "metadata": {},
          "execution_count": 10
        }
      ]
    },
    {
      "cell_type": "code",
      "source": [
        "print(\"Len x-train : \",len(x_train))\n",
        "print(\"Len x-test : \", len(x_test))"
      ],
      "metadata": {
        "id": "9tYsp2rk-7kn",
        "colab": {
          "base_uri": "https://localhost:8080/"
        },
        "outputId": "8e23b2bb-b25a-4ec7-b0dd-bd9d70cbadcb"
      },
      "execution_count": null,
      "outputs": [
        {
          "output_type": "stream",
          "name": "stdout",
          "text": [
            "Len x-train :  18\n",
            "Len x-test :  3\n"
          ]
        }
      ]
    },
    {
      "cell_type": "code",
      "source": [
        "# The Class Indices in Training Dataset\n",
        "x_train.class_indices"
      ],
      "metadata": {
        "id": "0BTrEjNN--or",
        "colab": {
          "base_uri": "https://localhost:8080/"
        },
        "outputId": "efe374f8-7dcf-42f1-f3e2-e272e63032af"
      },
      "execution_count": null,
      "outputs": [
        {
          "output_type": "execute_result",
          "data": {
            "text/plain": [
              "{'A': 0, 'B': 1, 'C': 2, 'D': 3, 'E': 4, 'F': 5, 'G': 6, 'H': 7, 'I': 8}"
            ]
          },
          "metadata": {},
          "execution_count": 12
        }
      ]
    },
    {
      "cell_type": "code",
      "source": [
        "# The Class Indices in Test Dataset\n",
        "x_test.class_indices"
      ],
      "metadata": {
        "id": "XXbBePhN_CWI",
        "colab": {
          "base_uri": "https://localhost:8080/"
        },
        "outputId": "ec9c4ec2-2d93-4d94-d77d-367a1b7dd3c6"
      },
      "execution_count": null,
      "outputs": [
        {
          "output_type": "execute_result",
          "data": {
            "text/plain": [
              "{'A': 0, 'B': 1, 'C': 2, 'D': 3, 'E': 4, 'F': 5, 'G': 6, 'H': 7, 'I': 8}"
            ]
          },
          "metadata": {},
          "execution_count": 13
        }
      ]
    },
    {
      "cell_type": "markdown",
      "source": [
        "#**Model building**"
      ],
      "metadata": {
        "id": "zbqEAwIEB_u6"
      }
    },
    {
      "cell_type": "markdown",
      "source": [
        "##Import The Required Model Building Libraries"
      ],
      "metadata": {
        "id": "X9K0C-sVCcQ_"
      }
    },
    {
      "cell_type": "code",
      "source": [
        "# Importing Libraries\n",
        "from keras.models import Sequential\n",
        "from keras.layers import Convolution2D,MaxPooling2D,Flatten,Dense"
      ],
      "metadata": {
        "id": "0pd5haGeB9RI"
      },
      "execution_count": null,
      "outputs": []
    },
    {
      "cell_type": "markdown",
      "source": [
        "##Initialize The Model"
      ],
      "metadata": {
        "id": "pjKErTZMDQDG"
      }
    },
    {
      "cell_type": "code",
      "source": [
        "# Creating Model\n",
        "model=Sequential()"
      ],
      "metadata": {
        "id": "ZDrHIIFPDQ6O"
      },
      "execution_count": null,
      "outputs": []
    },
    {
      "cell_type": "markdown",
      "source": [
        "##Add The Convolution Layer"
      ],
      "metadata": {
        "id": "afLLwRzcD0gu"
      }
    },
    {
      "cell_type": "code",
      "source": [
        "# Adding The Convolution Layer\n",
        "model.add(Convolution2D(32,(3,3),input_shape=(64,64,1),activation='relu'))"
      ],
      "metadata": {
        "id": "Y6MCnE3TD0-t"
      },
      "execution_count": null,
      "outputs": []
    },
    {
      "cell_type": "markdown",
      "source": [
        "##Add The Pooling Layer"
      ],
      "metadata": {
        "id": "FqhOVZPeEwaR"
      }
    },
    {
      "cell_type": "code",
      "source": [
        "# Adding The Pooling Layer\n",
        "model.add(MaxPooling2D(pool_size=(2,2)))"
      ],
      "metadata": {
        "id": "ziM6f-cZExJN"
      },
      "execution_count": null,
      "outputs": []
    },
    {
      "cell_type": "markdown",
      "source": [
        "##Add The Flatten Layer"
      ],
      "metadata": {
        "id": "5Vp0nqSZjxq1"
      }
    },
    {
      "cell_type": "code",
      "source": [
        "# Adding The Flatten Layer\n",
        "model.add(Flatten())"
      ],
      "metadata": {
        "id": "j2MGSl35jyGa"
      },
      "execution_count": null,
      "outputs": []
    },
    {
      "cell_type": "markdown",
      "source": [
        "## Add the Dense Layers"
      ],
      "metadata": {
        "id": "v84Cb_tnkegL"
      }
    },
    {
      "cell_type": "code",
      "source": [
        "# Adding Dense Layers\n",
        "model.add(Dense(512,activation='relu'))\n",
        "model.add(Dense(9,activation='softmax'))"
      ],
      "metadata": {
        "id": "rYm4ZR1Yke9r"
      },
      "execution_count": null,
      "outputs": []
    },
    {
      "cell_type": "markdown",
      "source": [
        "## Compilie the Model"
      ],
      "metadata": {
        "id": "qGRbVqZOlWLL"
      }
    },
    {
      "cell_type": "code",
      "source": [
        "# Compiling the Model\n",
        "model.compile(loss='categorical_crossentropy',optimizer='adam',metrics=['accuracy'])"
      ],
      "metadata": {
        "id": "Fy-FA93plWpa"
      },
      "execution_count": null,
      "outputs": []
    },
    {
      "cell_type": "markdown",
      "source": [
        "##Fit And Save The Model"
      ],
      "metadata": {
        "id": "WhbGcg0Om-t6"
      }
    },
    {
      "cell_type": "code",
      "source": [
        "# Fitting the Model Generator\n",
        "model.fit(x_train,steps_per_epoch=len(x_train),epochs=10,validation_data=x_test,validation_steps=len(x_test))"
      ],
      "metadata": {
        "colab": {
          "base_uri": "https://localhost:8080/"
        },
        "id": "te2qfbDJm-VS",
        "outputId": "513d23e9-603c-48c4-b52c-1e89cd1e96e3"
      },
      "execution_count": null,
      "outputs": [
        {
          "output_type": "stream",
          "name": "stdout",
          "text": [
            "Epoch 1/10\n",
            "18/18 [==============================] - 2135s 119s/step - loss: 1.4358 - accuracy: 0.6285 - val_loss: 0.4318 - val_accuracy: 0.8804\n",
            "Epoch 2/10\n",
            "18/18 [==============================] - 82s 4s/step - loss: 0.3189 - accuracy: 0.9081 - val_loss: 0.3124 - val_accuracy: 0.9280\n",
            "Epoch 3/10\n",
            "18/18 [==============================] - 81s 4s/step - loss: 0.1491 - accuracy: 0.9597 - val_loss: 0.2400 - val_accuracy: 0.9547\n",
            "Epoch 4/10\n",
            "18/18 [==============================] - 82s 4s/step - loss: 0.0918 - accuracy: 0.9772 - val_loss: 0.2035 - val_accuracy: 0.9600\n",
            "Epoch 5/10\n",
            "18/18 [==============================] - 87s 5s/step - loss: 0.0605 - accuracy: 0.9858 - val_loss: 0.1879 - val_accuracy: 0.9724\n",
            "Epoch 6/10\n",
            "18/18 [==============================] - 84s 5s/step - loss: 0.0398 - accuracy: 0.9910 - val_loss: 0.2023 - val_accuracy: 0.9702\n",
            "Epoch 7/10\n",
            "18/18 [==============================] - 81s 4s/step - loss: 0.0307 - accuracy: 0.9935 - val_loss: 0.2152 - val_accuracy: 0.9640\n",
            "Epoch 8/10\n",
            "18/18 [==============================] - 87s 5s/step - loss: 0.0226 - accuracy: 0.9954 - val_loss: 0.2010 - val_accuracy: 0.9760\n",
            "Epoch 9/10\n",
            "18/18 [==============================] - 82s 4s/step - loss: 0.0171 - accuracy: 0.9969 - val_loss: 0.2043 - val_accuracy: 0.9778\n",
            "Epoch 10/10\n",
            "18/18 [==============================] - 82s 4s/step - loss: 0.0138 - accuracy: 0.9979 - val_loss: 0.1984 - val_accuracy: 0.9782\n"
          ]
        },
        {
          "output_type": "execute_result",
          "data": {
            "text/plain": [
              "<keras.callbacks.History at 0x7f30971f1790>"
            ]
          },
          "metadata": {},
          "execution_count": 49
        }
      ]
    },
    {
      "cell_type": "code",
      "source": [
        "# Saving The Model\n",
        "model.save('/content/drive/MyDrive/final model/aslpng1.h5')"
      ],
      "metadata": {
        "id": "66xfn0sNnLpC"
      },
      "execution_count": null,
      "outputs": []
    },
    {
      "cell_type": "markdown",
      "source": [
        "#Test The Model\n"
      ],
      "metadata": {
        "id": "Oy0hGpfWbdl3"
      }
    },
    {
      "cell_type": "markdown",
      "source": [
        "##Import The Packages And Load The Saved Model"
      ],
      "metadata": {
        "id": "a2gIW_odbdY4"
      }
    },
    {
      "cell_type": "code",
      "source": [
        "import numpy as np\n",
        "from keras.models import load_model\n",
        "import cv2"
      ],
      "metadata": {
        "id": "PlrLhJMybdCH"
      },
      "execution_count": null,
      "outputs": []
    },
    {
      "cell_type": "code",
      "source": [
        "model=load_model('/content/drive/MyDrive/final model/aslpng1.h5')"
      ],
      "metadata": {
        "id": "c28hbEazeWQW"
      },
      "execution_count": null,
      "outputs": []
    },
    {
      "cell_type": "markdown",
      "source": [
        "##Load The Test Image, Pre-Process It And Predict"
      ],
      "metadata": {
        "id": "aeQq6H1eUhTv"
      }
    },
    {
      "cell_type": "code",
      "source": [
        "from skimage.transform import resize\n",
        "def detect(frame):\n",
        "  img = resize(frame, (64,64,1))\n",
        "  img = np.expand_dims(img,axis=0)\n",
        "  if(np.max(img)>1):\n",
        "    img = img/255.0\n",
        "  prediction = model.predict(img)\n",
        "  predictions = np.argmax(model.predict(img),axis=1)\n",
        "  print(prediction)\n",
        "  print(predictions)\n",
        "  predicted = list(predictions)\n",
        "  index=['A','B','C','D','E','F','G','H','I']\n",
        "  print(index[predicted[0]])\n"
      ],
      "metadata": {
        "id": "wWoaP1mGD9mJ"
      },
      "execution_count": 49,
      "outputs": []
    },
    {
      "cell_type": "code",
      "source": [
        "frame = cv2.imread(r\"/content/drive/MyDrive/Dataset/Dataset/test_set/D/100.png\")\n",
        "data = detect(frame)"
      ],
      "metadata": {
        "colab": {
          "base_uri": "https://localhost:8080/"
        },
        "id": "k_hQZyaFRD-f",
        "outputId": "f14c878f-3aa6-4c7b-c5de-41a466e0a018"
      },
      "execution_count": 66,
      "outputs": [
        {
          "output_type": "stream",
          "name": "stdout",
          "text": [
            "1/1 [==============================] - 0s 35ms/step\n",
            "1/1 [==============================] - 0s 39ms/step\n",
            "[[0.09182831 0.09003803 0.139085   0.14520077 0.10619249 0.11541776\n",
            "  0.10172331 0.10190983 0.10860445]]\n",
            "[3]\n",
            "D\n"
          ]
        }
      ]
    },
    {
      "cell_type": "markdown",
      "source": [
        "##OPEN CV\n"
      ],
      "metadata": {
        "id": "-eiMctiYflxt"
      }
    },
    {
      "cell_type": "code",
      "source": [
        "import cv2"
      ],
      "metadata": {
        "id": "kl48S4VIfn_c"
      },
      "execution_count": 51,
      "outputs": []
    },
    {
      "cell_type": "code",
      "source": [
        "img=cv2.imread(r'/content/drive/MyDrive/Dataset/Dataset/test_set/D/100.png')"
      ],
      "metadata": {
        "id": "Wr1EYL_-fwgt"
      },
      "execution_count": 67,
      "outputs": []
    },
    {
      "cell_type": "code",
      "source": [
        "print(img.shape)"
      ],
      "metadata": {
        "colab": {
          "base_uri": "https://localhost:8080/"
        },
        "id": "ZSo5a2BJf9wP",
        "outputId": "62892607-1697-45e2-b0b7-adca19971d38"
      },
      "execution_count": 68,
      "outputs": [
        {
          "output_type": "stream",
          "name": "stdout",
          "text": [
            "(64, 64, 3)\n"
          ]
        }
      ]
    },
    {
      "cell_type": "code",
      "source": [
        "from google.colab.patches import cv2_imshow\n",
        "cv2_imshow(img)\n",
        "cv2.waitKey(0)\n",
        "cv2.destroyAllWindows()"
      ],
      "metadata": {
        "id": "IIj9x8BUgA5t",
        "outputId": "60769329-6de2-4646-d809-f557b05ab098",
        "colab": {
          "base_uri": "https://localhost:8080/",
          "height": 81
        }
      },
      "execution_count": 69,
      "outputs": [
        {
          "output_type": "display_data",
          "data": {
            "text/plain": [
              "<PIL.Image.Image image mode=RGB size=64x64 at 0x7FE57EF149D0>"
            ],
            "image/png": "[encoded data removed]"
          },
          "metadata": {}
        }
      ]
    }
  ]
}