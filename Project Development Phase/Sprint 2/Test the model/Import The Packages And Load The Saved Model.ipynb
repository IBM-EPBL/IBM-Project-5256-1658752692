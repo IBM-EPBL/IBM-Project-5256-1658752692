{
  "nbformat": 4,
  "nbformat_minor": 0,
  "metadata": {
    "colab": {
      "provenance": [],
      "collapsed_sections": []
    },
    "kernelspec": {
      "name": "python3",
      "display_name": "Python 3"
    },
    "language_info": {
      "name": "python"
    },
    "accelerator": "TPU",
    "gpuClass": "standard"
  },
  "cells": [
    {
      "cell_type": "markdown",
      "source": [
        "# **Image Preprocessing**"
      ],
      "metadata": {
        "id": "DCRolva3lYu_"
      }
    },
    {
      "cell_type": "markdown",
      "source": [
        "### Import ImageDataGenerator Library And Configure It"
      ],
      "metadata": {
        "id": "3-t6NF8Flj4G"
      }
    },
    {
      "cell_type": "code",
      "execution_count": 92,
      "metadata": {
        "id": "iy2QXRwJeOqr"
      },
      "outputs": [],
      "source": [
        "from tensorflow.keras.preprocessing.image import ImageDataGenerator"
      ]
    },
    {
      "cell_type": "code",
      "source": [
        "# Training Datagen\n",
        "train_datagen = ImageDataGenerator(rescale=1/255,zoom_range=0.2,horizontal_flip=True,vertical_flip=False)\n",
        "# Testing Datagen\n",
        "test_datagen = ImageDataGenerator(rescale=1/255)\n"
      ],
      "metadata": {
        "id": "AdFUXM70fmPj"
      },
      "execution_count": 89,
      "outputs": []
    },
    {
      "cell_type": "code",
      "source": [
        "import tensorflow as tf\n",
        "import os\n",
        "from tensorflow.keras.models import Sequential\n",
        "from tensorflow.keras.layers import Dense, Conv2D, Flatten, Dropout, MaxPooling2D\n",
        "from tensorflow.keras.preprocessing.image import ImageDataGenerator\n",
        "import numpy as np\n",
        "import matplotlib.pyplot as plt\n",
        "import IPython.display as display\n",
        "from PIL import Image\n",
        "import pathlib"
      ],
      "metadata": {
        "id": "6H2WCNbHkyt0"
      },
      "execution_count": 90,
      "outputs": []
    },
    {
      "cell_type": "markdown",
      "source": [
        "##Apply ImageDataGenerator Functionality To Train And Test Set"
      ],
      "metadata": {
        "id": "gIQ1ebsH-Yjh"
      }
    },
    {
      "cell_type": "code",
      "source": [
        "from google.colab import drive\n",
        "drive.mount('/content/drive')"
      ],
      "metadata": {
        "id": "Suz-QszS-gA7",
        "colab": {
          "base_uri": "https://localhost:8080/"
        },
        "outputId": "0ff16459-65fe-4f00-8de8-8cf8985d67ba"
      },
      "execution_count": 94,
      "outputs": [
        {
          "output_type": "stream",
          "name": "stdout",
          "text": [
            "Drive already mounted at /content/drive; to attempt to forcibly remount, call drive.mount(\"/content/drive\", force_remount=True).\n"
          ]
        }
      ]
    },
    {
      "cell_type": "code",
      "source": [
        "# Training Dataset\n",
        "x_train=train_datagen.flow_from_directory(r'/content/drive/MyDrive/Dataset/Dataset/training_set',target_size=(64,64), class_mode='categorical',batch_size=900,color_mode = \"grayscale\")\n",
        "# Testing Dataset\n",
        "x_test=test_datagen.flow_from_directory(r'/content/drive/MyDrive/Dataset/Dataset/test_set',target_size=(64,64), class_mode='categorical',batch_size=900,color_mode = \"grayscale\")\n"
      ],
      "metadata": {
        "id": "-HZNxC-8-1lg"
      },
      "execution_count": null,
      "outputs": []
    },
    {
      "cell_type": "code",
      "source": [
        "print(\"Len x-train : \",len(x_train))\n",
        "print(\"Len x-test : \", len(x_test))"
      ],
      "metadata": {
        "id": "9tYsp2rk-7kn"
      },
      "execution_count": null,
      "outputs": []
    },
    {
      "cell_type": "code",
      "source": [
        "# The Class Indices in Training Dataset\n",
        "x_train.class_indices"
      ],
      "metadata": {
        "id": "0BTrEjNN--or"
      },
      "execution_count": null,
      "outputs": []
    },
    {
      "cell_type": "code",
      "source": [
        "# The Class Indices in Test Dataset\n",
        "x_test.class_indices"
      ],
      "metadata": {
        "id": "XXbBePhN_CWI"
      },
      "execution_count": null,
      "outputs": []
    },
    {
      "cell_type": "markdown",
      "source": [
        "#**Model building**"
      ],
      "metadata": {
        "id": "zbqEAwIEB_u6"
      }
    },
    {
      "cell_type": "markdown",
      "source": [
        "##Import The Required Model Building Libraries"
      ],
      "metadata": {
        "id": "X9K0C-sVCcQ_"
      }
    },
    {
      "cell_type": "code",
      "source": [
        "# Importing Libraries\n",
        "from tensorflow.keras.models import Sequential\n",
        "from tensorflow.keras.layers import Convolution2D,MaxPooling2D,Flatten,Dense"
      ],
      "metadata": {
        "id": "0pd5haGeB9RI"
      },
      "execution_count": null,
      "outputs": []
    },
    {
      "cell_type": "markdown",
      "source": [
        "##Initialize The Model"
      ],
      "metadata": {
        "id": "pjKErTZMDQDG"
      }
    },
    {
      "cell_type": "code",
      "source": [
        "# Creating Model\n",
        "model=Sequential()"
      ],
      "metadata": {
        "id": "ZDrHIIFPDQ6O"
      },
      "execution_count": null,
      "outputs": []
    },
    {
      "cell_type": "markdown",
      "source": [
        "##Add The Convolution Layer"
      ],
      "metadata": {
        "id": "afLLwRzcD0gu"
      }
    },
    {
      "cell_type": "code",
      "source": [
        "# Adding The Convolution Layer\n",
        "model.add(Convolution2D(32,(3,3),activation='relu',input_shape=(64,64,3)))"
      ],
      "metadata": {
        "id": "Y6MCnE3TD0-t"
      },
      "execution_count": null,
      "outputs": []
    },
    {
      "cell_type": "markdown",
      "source": [
        "##Add The Pooling Layer"
      ],
      "metadata": {
        "id": "FqhOVZPeEwaR"
      }
    },
    {
      "cell_type": "code",
      "source": [
        "# Adding The Pooling Layer\n",
        "model.add(MaxPooling2D(pool_size=(2,2)))"
      ],
      "metadata": {
        "id": "ziM6f-cZExJN"
      },
      "execution_count": null,
      "outputs": []
    },
    {
      "cell_type": "markdown",
      "source": [
        "##Add The Flatten Layer"
      ],
      "metadata": {
        "id": "5Vp0nqSZjxq1"
      }
    },
    {
      "cell_type": "code",
      "source": [
        "# Adding The Flatten Layer\n",
        "model.add(Flatten())"
      ],
      "metadata": {
        "id": "j2MGSl35jyGa"
      },
      "execution_count": null,
      "outputs": []
    },
    {
      "cell_type": "markdown",
      "source": [
        "## Add the Dense Layers"
      ],
      "metadata": {
        "id": "v84Cb_tnkegL"
      }
    },
    {
      "cell_type": "code",
      "source": [
        "# Adding Dense Layers\n",
        "model.add(Dense(300,activation='relu'))\n",
        "model.add(Dense(150,activation='relu'))\n",
        "model.add(Dense(9,activation='softmax'))"
      ],
      "metadata": {
        "id": "rYm4ZR1Yke9r"
      },
      "execution_count": null,
      "outputs": []
    },
    {
      "cell_type": "markdown",
      "source": [
        "## Compilie the Model"
      ],
      "metadata": {
        "id": "qGRbVqZOlWLL"
      }
    },
    {
      "cell_type": "code",
      "source": [
        "# Compiling the Model\n",
        "model.compile(loss='categorical_crossentropy',optimizer='adam',metrics=['accuracy'])"
      ],
      "metadata": {
        "id": "Fy-FA93plWpa"
      },
      "execution_count": null,
      "outputs": []
    },
    {
      "cell_type": "markdown",
      "source": [
        "##Fit And Save The Model"
      ],
      "metadata": {
        "id": "WhbGcg0Om-t6"
      }
    },
    {
      "cell_type": "code",
      "source": [
        "# Fitting the Model Generator\n",
        "model.fit(x_train,steps_per_epoch=len(x_train),epochs=10,validation_data=x_test,validation_steps=len(x_test))"
      ],
      "metadata": {
        "colab": {
          "base_uri": "https://localhost:8080/"
        },
        "id": "te2qfbDJm-VS",
        "outputId": "aec847aa-9ec1-445b-ea78-383943a42416"
      },
      "execution_count": 87,
      "outputs": [
        {
          "output_type": "stream",
          "name": "stdout",
          "text": [
            "Epoch 1/10\n",
            "18/18 [==============================] - 2824s 157s/step - loss: 1.0592 - accuracy: 0.6450 - val_loss: 0.4096 - val_accuracy: 0.8867\n",
            "Epoch 2/10\n",
            "18/18 [==============================] - 85s 5s/step - loss: 0.2092 - accuracy: 0.9427 - val_loss: 0.2497 - val_accuracy: 0.9502\n",
            "Epoch 3/10\n",
            "18/18 [==============================] - 81s 4s/step - loss: 0.0777 - accuracy: 0.9794 - val_loss: 0.2169 - val_accuracy: 0.9644\n",
            "Epoch 4/10\n",
            "18/18 [==============================] - 82s 5s/step - loss: 0.0374 - accuracy: 0.9908 - val_loss: 0.2397 - val_accuracy: 0.9684\n",
            "Epoch 5/10\n",
            "18/18 [==============================] - 80s 4s/step - loss: 0.0232 - accuracy: 0.9945 - val_loss: 0.2474 - val_accuracy: 0.9760\n",
            "Epoch 6/10\n",
            "18/18 [==============================] - 83s 5s/step - loss: 0.0133 - accuracy: 0.9976 - val_loss: 0.2843 - val_accuracy: 0.9747\n",
            "Epoch 7/10\n",
            "18/18 [==============================] - 81s 4s/step - loss: 0.0100 - accuracy: 0.9977 - val_loss: 0.2875 - val_accuracy: 0.9756\n",
            "Epoch 8/10\n",
            "18/18 [==============================] - 82s 4s/step - loss: 0.0079 - accuracy: 0.9982 - val_loss: 0.2922 - val_accuracy: 0.9760\n",
            "Epoch 9/10\n",
            "18/18 [==============================] - 83s 5s/step - loss: 0.0058 - accuracy: 0.9989 - val_loss: 0.3056 - val_accuracy: 0.9760\n",
            "Epoch 10/10\n",
            "18/18 [==============================] - 84s 5s/step - loss: 0.0037 - accuracy: 0.9995 - val_loss: 0.3220 - val_accuracy: 0.9760\n"
          ]
        },
        {
          "output_type": "execute_result",
          "data": {
            "text/plain": [
              "<keras.callbacks.History at 0x7ff90d10f8d0>"
            ]
          },
          "metadata": {},
          "execution_count": 87
        }
      ]
    },
    {
      "cell_type": "code",
      "source": [
        "# Saving The Model\n",
        "model.save('asl_model_84_54.h5')"
      ],
      "metadata": {
        "id": "66xfn0sNnLpC"
      },
      "execution_count": 93,
      "outputs": []
    },
    {
      "cell_type": "markdown",
      "source": [
        "#Test The Model\n"
      ],
      "metadata": {
        "id": "Oy0hGpfWbdl3"
      }
    },
    {
      "cell_type": "markdown",
      "source": [
        "##Import The Packages And Load The Saved Model"
      ],
      "metadata": {
        "id": "a2gIW_odbdY4"
      }
    },
    {
      "cell_type": "code",
      "source": [
        "import numpy as np\n",
        "from tensorflow.keras.models import load_model\n",
        "from tensorflow.keras.preprocessing import image"
      ],
      "metadata": {
        "id": "PlrLhJMybdCH"
      },
      "execution_count": 95,
      "outputs": []
    },
    {
      "cell_type": "code",
      "source": [
        "model=load_model('asl_model_84_54.h5')\n",
        "img=image.load_img(r'/content/drive/MyDrive/Dataset/Dataset/test_set/D/2.png',\n",
        "                   target_size=(64,64))"
      ],
      "metadata": {
        "id": "c28hbEazeWQW"
      },
      "execution_count": 97,
      "outputs": []
    },
    {
      "cell_type": "markdown",
      "source": [
        "##Load The Test Image, Pre-Process It And Predict\n"
      ],
      "metadata": {
        "id": "3elcXqjSesHG"
      }
    },
    {
      "cell_type": "code",
      "source": [
        "img"
      ],
      "metadata": {
        "colab": {
          "base_uri": "https://localhost:8080/",
          "height": 81
        },
        "id": "PQTXoSlAesfe",
        "outputId": "0364251e-cbad-4aa0-a53f-8f1d17639b0c"
      },
      "execution_count": 98,
      "outputs": [
        {
          "output_type": "execute_result",
          "data": {
            "text/plain": [
              "<PIL.Image.Image image mode=RGB size=64x64 at 0x7FF903D76D90>"
            ],
            "image/png": "[encoded data removed]"
          },
          "metadata": {},
          "execution_count": 98
        }
      ]
    },
    {
      "cell_type": "code",
      "source": [
        "x=image.img_to_array(img)"
      ],
      "metadata": {
        "id": "pKcKpLR4ez1v"
      },
      "execution_count": 99,
      "outputs": []
    },
    {
      "cell_type": "code",
      "source": [
        "x.ndim"
      ],
      "metadata": {
        "colab": {
          "base_uri": "https://localhost:8080/"
        },
        "id": "h8HRiiI4e5zu",
        "outputId": "445f2449-878f-4de7-cc1f-ede55e1dc9f7"
      },
      "execution_count": 100,
      "outputs": [
        {
          "output_type": "execute_result",
          "data": {
            "text/plain": [
              "3"
            ]
          },
          "metadata": {},
          "execution_count": 100
        }
      ]
    },
    {
      "cell_type": "code",
      "source": [
        "x=np.expand_dims(x,axis=0)"
      ],
      "metadata": {
        "id": "VLtZV960e97d"
      },
      "execution_count": 101,
      "outputs": []
    },
    {
      "cell_type": "code",
      "source": [
        "x.ndim"
      ],
      "metadata": {
        "colab": {
          "base_uri": "https://localhost:8080/"
        },
        "id": "lax8wGPFfBIF",
        "outputId": "b594acb8-f794-4336-ad9b-6f8e738f627e"
      },
      "execution_count": 102,
      "outputs": [
        {
          "output_type": "execute_result",
          "data": {
            "text/plain": [
              "4"
            ]
          },
          "metadata": {},
          "execution_count": 102
        }
      ]
    },
    {
      "cell_type": "code",
      "source": [
        "pred=np.argmax(model.predict(x),axis=1)"
      ],
      "metadata": {
        "colab": {
          "base_uri": "https://localhost:8080/"
        },
        "id": "niGgyaTafCnt",
        "outputId": "ddbe8c64-d660-4954-890c-fccbb5383fc2"
      },
      "execution_count": 103,
      "outputs": [
        {
          "output_type": "stream",
          "name": "stdout",
          "text": [
            "1/1 [==============================] - 0s 137ms/step\n"
          ]
        }
      ]
    },
    {
      "cell_type": "code",
      "source": [
        "pred"
      ],
      "metadata": {
        "colab": {
          "base_uri": "https://localhost:8080/"
        },
        "id": "YetXYYbyfNQX",
        "outputId": "daface2c-6b69-4298-e396-f18489762173"
      },
      "execution_count": 104,
      "outputs": [
        {
          "output_type": "execute_result",
          "data": {
            "text/plain": [
              "array([3])"
            ]
          },
          "metadata": {},
          "execution_count": 104
        }
      ]
    },
    {
      "cell_type": "code",
      "source": [
        "index=['A','B','C','D','E','F','G','H','I']\n",
        "print(index[pred[0]])"
      ],
      "metadata": {
        "colab": {
          "base_uri": "https://localhost:8080/"
        },
        "id": "eT7r5_UOfRfF",
        "outputId": "a1b85f45-d70c-47c7-9ddf-270cc18fedea"
      },
      "execution_count": 105,
      "outputs": [
        {
          "output_type": "stream",
          "name": "stdout",
          "text": [
            "D\n"
          ]
        }
      ]
    },
    {
      "cell_type": "markdown",
      "source": [
        "##OPEN CV\n"
      ],
      "metadata": {
        "id": "-eiMctiYflxt"
      }
    },
    {
      "cell_type": "code",
      "source": [
        "import cv2"
      ],
      "metadata": {
        "id": "kl48S4VIfn_c"
      },
      "execution_count": 106,
      "outputs": []
    },
    {
      "cell_type": "code",
      "source": [
        "img=cv2.imread(r'/content/drive/MyDrive/Dataset/Dataset/test_set/C/2.png',1)"
      ],
      "metadata": {
        "id": "ftXMZ0ccfsrl"
      },
      "execution_count": 107,
      "outputs": []
    },
    {
      "cell_type": "code",
      "source": [
        "img1=cv2.imread(r'/content/drive/MyDrive/Dataset/Dataset/test_set/B/2.png',0)"
      ],
      "metadata": {
        "id": "Wr1EYL_-fwgt"
      },
      "execution_count": 108,
      "outputs": []
    },
    {
      "cell_type": "code",
      "source": [
        "print(img.shape)"
      ],
      "metadata": {
        "colab": {
          "base_uri": "https://localhost:8080/"
        },
        "id": "ZSo5a2BJf9wP",
        "outputId": "f11e5783-4278-4401-8375-225d3a078689"
      },
      "execution_count": 109,
      "outputs": [
        {
          "output_type": "stream",
          "name": "stdout",
          "text": [
            "(64, 64, 3)\n"
          ]
        }
      ]
    },
    {
      "cell_type": "code",
      "source": [
        "from google.colab.patches import cv2_imshow\n",
        "cv2_imshow(img)\n",
        "cv2.waitKey(0)\n",
        "cv2.destroyAllWindows()"
      ],
      "metadata": {
        "id": "IIj9x8BUgA5t",
        "outputId": "006b87b3-2da1-4a43-d5cb-c7dc1486f934",
        "colab": {
          "base_uri": "https://localhost:8080/",
          "height": 81
        }
      },
      "execution_count": 110,
      "outputs": [
        {
          "output_type": "display_data",
          "data": {
            "text/plain": [
              "<PIL.Image.Image image mode=RGB size=64x64 at 0x7FF90D351AD0>"
            ],
            "image/png": "[encoded data removed]"
          },
          "metadata": {}
        }
      ]
    }
  ]
}